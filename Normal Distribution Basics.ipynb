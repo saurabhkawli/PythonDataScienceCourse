{
  "nbformat": 4,
  "nbformat_minor": 0,
  "metadata": {
    "colab": {
      "name": "Untitled0.ipynb",
      "provenance": [],
      "collapsed_sections": []
    },
    "kernelspec": {
      "name": "python3",
      "display_name": "Python 3"
    }
  },
  "cells": [
    {
      "cell_type": "markdown",
      "metadata": {
        "id": "pHqY5Ibmab6s"
      },
      "source": [
        "# **Finding Area within a Normal Distribution using Scipy**"
      ]
    },
    {
      "cell_type": "code",
      "metadata": {
        "colab": {
          "base_uri": "https://localhost:8080/"
        },
        "id": "dKzvP02FWliu",
        "outputId": "6e22ea71-d3ca-48f6-be36-1dd9ead98817"
      },
      "source": [
        "pip install scipy\n",
        "from scipy import stats"
      ],
      "execution_count": 1,
      "outputs": [
        {
          "output_type": "stream",
          "text": [
            "Requirement already satisfied: scipy in /usr/local/lib/python3.6/dist-packages (1.4.1)\n",
            "Requirement already satisfied: numpy>=1.13.3 in /usr/local/lib/python3.6/dist-packages (from scipy) (1.18.5)\n"
          ],
          "name": "stdout"
        }
      ]
    },
    {
      "cell_type": "markdown",
      "metadata": {
        "id": "Tz6VM-BfaxDd"
      },
      "source": [
        "### **X1 = 85, X2 = 100, Mean=60, Standard Deviation=10**"
      ]
    },
    {
      "cell_type": "code",
      "metadata": {
        "id": "TxOT84-1W2SU"
      },
      "source": [
        "a=stats.norm.cdf(85,60,10)\n",
        "b=stats.norm.cdf(100,60,10)\n",
        "b-a"
      ],
      "execution_count": 9,
      "outputs": []
    },
    {
      "cell_type": "markdown",
      "metadata": {
        "id": "2PUlUBktbpyz"
      },
      "source": [
        "### **Area of whole normal distribution is 1 so to get Normal distribution of the right part of the distribution calculate the left side using formula and subtract it with 1**"
      ]
    },
    {
      "cell_type": "code",
      "metadata": {
        "colab": {
          "base_uri": "https://localhost:8080/"
        },
        "id": "X796kK_CX9hk",
        "outputId": "f488713a-39df-49d3-8d96-32bb80c88876"
      },
      "source": [
        "1-a"
      ],
      "execution_count": 13,
      "outputs": [
        {
          "output_type": "execute_result",
          "data": {
            "text/plain": [
              "0.006209665325776159"
            ]
          },
          "metadata": {
            "tags": []
          },
          "execution_count": 13
        }
      ]
    },
    {
      "cell_type": "markdown",
      "metadata": {
        "id": "-ZcwiUUJb-Ix"
      },
      "source": [
        "### **X=680,Mean=711,SD=29**"
      ]
    },
    {
      "cell_type": "code",
      "metadata": {
        "colab": {
          "base_uri": "https://localhost:8080/"
        },
        "id": "1vZ6jQ0uYrCf",
        "outputId": "59d69c69-b01f-47f8-f2f8-a340dfbe2eba"
      },
      "source": [
        "stats.norm.cdf(680,711,29)"
      ],
      "execution_count": 14,
      "outputs": [
        {
          "output_type": "execute_result",
          "data": {
            "text/plain": [
              "0.14254260383881612"
            ]
          },
          "metadata": {
            "tags": []
          },
          "execution_count": 14
        }
      ]
    },
    {
      "cell_type": "markdown",
      "metadata": {
        "id": "NwwevgLdcRzK"
      },
      "source": [
        "### **To get the distribution area between P(697< X <730)**"
      ]
    },
    {
      "cell_type": "code",
      "metadata": {
        "colab": {
          "base_uri": "https://localhost:8080/"
        },
        "id": "WU4xpJq9YxKG",
        "outputId": "78fa7625-8c83-4c8d-9d68-3f6977023dab"
      },
      "source": [
        "a=stats.norm.cdf(730,711,29)\n",
        "b=stats.norm.cdf(697,711,29)\n",
        "a-b"
      ],
      "execution_count": 18,
      "outputs": [
        {
          "output_type": "execute_result",
          "data": {
            "text/plain": [
              "0.42918805592283116"
            ]
          },
          "metadata": {
            "tags": []
          },
          "execution_count": 18
        }
      ]
    },
    {
      "cell_type": "code",
      "metadata": {
        "id": "PDIgdVegZZzW"
      },
      "source": [
        ""
      ],
      "execution_count": null,
      "outputs": []
    }
  ]
}