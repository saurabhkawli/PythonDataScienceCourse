{
 "cells": [
  {
   "cell_type": "code",
   "execution_count": 1,
   "metadata": {
    "colab": {},
    "colab_type": "code",
    "id": "QweWdcZ_nZ4D"
   },
   "outputs": [],
   "source": [
    "#install and then import matplotlib\n",
    "import matplotlib.pyplot as plt"
   ]
  },
  {
   "cell_type": "code",
   "execution_count": 2,
   "metadata": {
    "colab": {},
    "colab_type": "code",
    "id": "8X0Il_f1nZ4I"
   },
   "outputs": [],
   "source": [
    "#matplotlib to render plots in the notebook\n",
    "%matplotlib inline"
   ]
  },
  {
   "cell_type": "code",
   "execution_count": 3,
   "metadata": {
    "colab": {},
    "colab_type": "code",
    "id": "PAfVoG3xnZ4K"
   },
   "outputs": [],
   "source": [
    "x = [-3, 5, 7]"
   ]
  },
  {
   "cell_type": "code",
   "execution_count": 4,
   "metadata": {
    "colab": {},
    "colab_type": "code",
    "id": "DYZJI0PfnZ4N"
   },
   "outputs": [],
   "source": [
    "y = [10, 2, 5]"
   ]
  },
  {
   "cell_type": "code",
   "execution_count": 5,
   "metadata": {
    "colab": {},
    "colab_type": "code",
    "id": "4ygzI_bznZ4P"
   },
   "outputs": [
    {
     "data": {
      "text/plain": [
       "Text(0.5, 1.03, 'Sales Comaprison')"
      ]
     },
     "execution_count": 5,
     "metadata": {},
     "output_type": "execute_result"
    },
    {
     "data": {
      "image/png": "[encoded data removed]",
      "text/plain": [
       "<Figure size 1080x216 with 1 Axes>"
      ]
     },
     "metadata": {
      "needs_background": "light"
     },
     "output_type": "display_data"
    }
   ],
   "source": [
    "fig = plt.figure(figsize=(15,3))\n",
    "\n",
    "plt.plot(x, y)\n",
    "plt.xlim(0, 10)\n",
    "plt.ylim(-3, 8)\n",
    "plt.xlabel('X Axis')\n",
    "plt.ylabel('Y axis')\n",
    "plt.title('Line Plot')\n",
    "plt.suptitle('Sales Comaprison', size=20, y=1.03)\n"
   ]
  },
  {
   "cell_type": "code",
   "execution_count": null,
   "metadata": {
    "colab": {},
    "colab_type": "code",
    "id": "7S2k6bBZnZ4S"
   },
   "outputs": [],
   "source": [
    "#fig.savefig('example.png', dpi=300, bbox_inches='tight')"
   ]
  },
  {
   "cell_type": "code",
   "execution_count": null,
   "metadata": {
    "colab": {},
    "colab_type": "code",
    "id": "M9YNVwJAnZ4d",
    "outputId": "1bbd6545-8e31-4ef3-83bd-8663e9be241b"
   },
   "outputs": [],
   "source": [
    "fig, ax = plt.subplots(nrows=1, ncols=1)"
   ]
  },
  {
   "cell_type": "code",
   "execution_count": null,
   "metadata": {
    "colab": {},
    "colab_type": "code",
    "id": "-oEJCo_knZ4f",
    "outputId": "52afea24-88f0-4f18-b5ef-fada0dab5566"
   },
   "outputs": [],
   "source": [
    "# More than one Axes with plt.subplots, then the second item in the tuple is a NumPy array containing all the Axes\n",
    "fig, axs = plt.subplots(2, 4)"
   ]
  },
  {
   "cell_type": "markdown",
   "metadata": {
    "colab_type": "text",
    "id": "l-y9Jux9nZ4h"
   },
   "source": [
    "#### Matplotlib"
   ]
  },
  {
   "cell_type": "code",
   "execution_count": null,
   "metadata": {
    "colab": {},
    "colab_type": "code",
    "id": "LHZI1mpknZ4h"
   },
   "outputs": [],
   "source": [
    "import pandas as pd\n",
    "import numpy as np\n",
    "import matplotlib.pyplot as plt\n",
    "\n",
    "mtcars = pd.read_csv(\"/Users/srinivasgurrala/Downloads/mtcars.csv\")"
   ]
  },
  {
   "cell_type": "code",
   "execution_count": null,
   "metadata": {},
   "outputs": [],
   "source": [
    "mtcars.head()"
   ]
  },
  {
   "cell_type": "code",
   "execution_count": null,
   "metadata": {
    "colab": {},
    "colab_type": "code",
    "id": "lCZ0GKRenZ4p",
    "outputId": "96f32bd0-1c1c-47fd-87db-081f5bdce5f4"
   },
   "outputs": [],
   "source": [
    "mtcars.columns"
   ]
  },
  {
   "cell_type": "code",
   "execution_count": null,
   "metadata": {
    "colab": {},
    "colab_type": "code",
    "id": "5oN2RhqHnZ4r",
    "outputId": "e147df0b-4ee9-47c3-df8f-31dd39a2b643"
   },
   "outputs": [],
   "source": [
    "mtcars.shape"
   ]
  },
  {
   "cell_type": "code",
   "execution_count": null,
   "metadata": {
    "colab": {},
    "colab_type": "code",
    "id": "q3mmrKLmnZ4t",
    "outputId": "e9166c88-b6d8-4da5-e7cb-610e3ba4b331"
   },
   "outputs": [],
   "source": [
    "mtcars.head()"
   ]
  },
  {
   "cell_type": "code",
   "execution_count": null,
   "metadata": {
    "colab": {},
    "colab_type": "code",
    "id": "WommxAHZnZ4v",
    "outputId": "21435ec0-1285-4fbf-b8ab-b59e2ebd6011"
   },
   "outputs": [],
   "source": [
    "# table \n",
    "pd.crosstab(mtcars.gear,mtcars.cyl)"
   ]
  },
  {
   "cell_type": "code",
   "execution_count": null,
   "metadata": {
    "colab": {},
    "colab_type": "code",
    "id": "gd_GXjZInZ4x",
    "outputId": "90e819a7-b3f5-4721-dce0-1b0677ca33b6"
   },
   "outputs": [],
   "source": [
    "# bar plot between 2 different categories \n",
    "pd.crosstab(mtcars.gear,mtcars.cyl).plot(kind=\"bar\")"
   ]
  },
  {
   "cell_type": "code",
   "execution_count": null,
   "metadata": {
    "colab": {},
    "colab_type": "code",
    "id": "E0Ve7ecYnZ4z",
    "outputId": "7821d7a7-9690-4a0f-fba7-145e91e6de5a"
   },
   "outputs": [],
   "source": [
    "mtcars[\"gear\"].value_counts()\n",
    "mtcars.gear.value_counts().plot(kind=\"pie\")"
   ]
  },
  {
   "cell_type": "code",
   "execution_count": null,
   "metadata": {
    "colab": {},
    "colab_type": "code",
    "id": "nS4W0mSPnZ46",
    "outputId": "63c4318e-c4e7-4b99-afcf-bb3d60df8d75"
   },
   "outputs": [],
   "source": [
    "plt.scatter(mtcars.mpg,mtcars.qsec)## scatter plot of two variables"
   ]
  },
  {
   "cell_type": "code",
   "execution_count": null,
   "metadata": {
    "colab": {},
    "colab_type": "code",
    "id": "KE7H-SkvnZ48",
    "outputId": "b34a6472-e5a3-4061-aa0a-150ed6c67104"
   },
   "outputs": [],
   "source": [
    "# Graphical Representation of data\n",
    "#import matplotlib.pyplot as plt\n",
    "# Histogram\n",
    "plt.hist(mtcars['mpg']) "
   ]
  },
  {
   "cell_type": "code",
   "execution_count": null,
   "metadata": {
    "colab": {},
    "colab_type": "code",
    "id": "Gfr6Zby0nZ4-",
    "outputId": "6d968e22-65ef-4283-9e4d-437fe4d76e77"
   },
   "outputs": [],
   "source": [
    "plt.hist(mtcars['mpg'],facecolor =\"peru\",edgecolor =\"blue\",bins =5)\n",
    "#creates histogram with 5bins and colours filled init."
   ]
  },
  {
   "cell_type": "code",
   "execution_count": null,
   "metadata": {
    "colab": {},
    "colab_type": "code",
    "id": "dwztDftYnZ5A",
    "outputId": "96e625cb-1dc2-45b5-d214-98d091709d40"
   },
   "outputs": [],
   "source": [
    "#Boxplot\n",
    "#help(plt.boxplot)\n",
    "plt.boxplot(mtcars['mpg'],vert = True)"
   ]
  },
  {
   "cell_type": "code",
   "execution_count": null,
   "metadata": {
    "colab": {},
    "colab_type": "code",
    "id": "4IfbGudInZ5C",
    "outputId": "6512bb8f-a9ef-43fd-e34a-4b5f68112f01"
   },
   "outputs": [],
   "source": [
    "plt.boxplot(mtcars['mpg'],vert =False);plt.ylabel(\"MPG\");plt.xlabel(\"Boxplot\");plt.title(\"Boxplot\")  # for vertical"
   ]
  },
  {
   "cell_type": "code",
   "execution_count": null,
   "metadata": {
    "colab": {},
    "colab_type": "code",
    "id": "O0IuI0DInZ5E",
    "outputId": "fdccb5c2-0b7c-4f5c-d997-598c99bde6c2"
   },
   "outputs": [],
   "source": [
    "#Violin Plot\n",
    "#help(plt.violinplot)\n",
    "plt.violinplot(mtcars[\"mpg\"])"
   ]
  },
  {
   "cell_type": "markdown",
   "metadata": {
    "colab_type": "text",
    "id": "cBaipI82nZ5c"
   },
   "source": [
    "# seaborn"
   ]
  },
  {
   "cell_type": "code",
   "execution_count": null,
   "metadata": {
    "colab": {},
    "colab_type": "code",
    "id": "pCovzCbonZ5c"
   },
   "outputs": [],
   "source": [
    "import pandas as pd\n",
    "import matplotlib.pyplot as plt\n",
    "import seaborn as sns"
   ]
  },
  {
   "cell_type": "code",
   "execution_count": null,
   "metadata": {
    "colab": {},
    "colab_type": "code",
    "id": "NFEw7V20nZ5e"
   },
   "outputs": [],
   "source": [
    "tips =sns.load_dataset('tips')"
   ]
  },
  {
   "cell_type": "code",
   "execution_count": null,
   "metadata": {
    "colab": {},
    "colab_type": "code",
    "id": "uvW-2Yy9nZ5g",
    "outputId": "7c4d4599-b22a-464a-9e71-6abbf4bd712f"
   },
   "outputs": [],
   "source": [
    "tips"
   ]
  },
  {
   "cell_type": "markdown",
   "metadata": {
    "colab_type": "text",
    "id": "gwepy3MJnZ5q"
   },
   "source": [
    "## Univariate → “one variable” data visualization"
   ]
  },
  {
   "cell_type": "code",
   "execution_count": null,
   "metadata": {
    "colab": {},
    "colab_type": "code",
    "id": "9yvW6r-FnZ5q",
    "outputId": "4a34b7de-229e-4451-9b56-d104633f8c56"
   },
   "outputs": [],
   "source": [
    "#strip plot\n",
    "\n",
    "sns.stripplot(y= 'tip', data=tips,jitter=True)\n",
    "plt.ylabel('tip ($)')\n",
    "plt.show()"
   ]
  },
  {
   "cell_type": "code",
   "execution_count": null,
   "metadata": {
    "colab": {},
    "colab_type": "code",
    "id": "naml9-dqnZ5t",
    "outputId": "2cb8e6bb-d208-4cde-f0f2-ba70c242fd64"
   },
   "outputs": [],
   "source": [
    "#Grouping with stripplot()\n",
    "sns.stripplot(x='day', y='tip', data=tips)\n",
    "plt.ylabel('tip ($)')\n",
    "plt.show()"
   ]
  },
  {
   "cell_type": "code",
   "execution_count": null,
   "metadata": {
    "colab": {},
    "colab_type": "code",
    "id": "59nZsoX2nZ5v",
    "outputId": "29853bbd-6ada-49c1-fea0-e8736fef65c6"
   },
   "outputs": [],
   "source": [
    "sns.stripplot(x='day', y='tip', data=tips, size=4,jitter=False)\n",
    "plt.ylabel('tip ($)')\n",
    "plt.show()"
   ]
  },
  {
   "cell_type": "code",
   "execution_count": null,
   "metadata": {
    "colab": {},
    "colab_type": "code",
    "id": "qRhuTDd4nZ5x",
    "outputId": "860d0172-affe-4fce-d770-c5a6c2e9a2f9"
   },
   "outputs": [],
   "source": [
    "#Swarm plot\n",
    "\n",
    "sns.swarmplot(x='day', y='tip', data=tips)\n",
    "plt.ylabel('tip ($)')\n",
    "plt.show()\n",
    "    "
   ]
  },
  {
   "cell_type": "code",
   "execution_count": null,
   "metadata": {
    "colab": {},
    "colab_type": "code",
    "id": "G6g9dEhtnZ50",
    "outputId": "b70f8eb8-9c23-44ee-a809-30afc99c42e9"
   },
   "outputs": [],
   "source": [
    "sns.swarmplot(x='day', y='tip', data=tips, hue='sex')\n",
    "plt.ylabel('tip ($)')\n",
    "plt.show()"
   ]
  },
  {
   "cell_type": "code",
   "execution_count": null,
   "metadata": {
    "colab": {},
    "colab_type": "code",
    "id": "GTGvh_HNnZ52",
    "outputId": "b8e31ccd-3282-4bf8-aada-4c87deef155c"
   },
   "outputs": [],
   "source": [
    "#Changing orientation\n",
    "sns.swarmplot(x='tip', y='day', data=tips, hue='sex',orient='h')\n",
    "plt.xlabel('tip ($)')\n",
    "plt.show()"
   ]
  },
  {
   "cell_type": "markdown",
   "metadata": {
    "colab_type": "text",
    "id": "BDnEr2d-nZ54"
   },
   "source": [
    "### Box and Violin plot"
   ]
  },
  {
   "cell_type": "code",
   "execution_count": null,
   "metadata": {
    "colab": {},
    "colab_type": "code",
    "id": "81HzwK2vnZ54",
    "outputId": "62f7e81d-d9e9-4571-9950-23c8067b67c9"
   },
   "outputs": [],
   "source": [
    "#plt.subplot(1,2,1)\n",
    "sns.boxplot(x='day', y='tip', data=tips)\n",
    "plt.ylabel('tip ($)')\n"
   ]
  },
  {
   "cell_type": "code",
   "execution_count": null,
   "metadata": {
    "colab": {},
    "colab_type": "code",
    "id": "ExShL4IfnZ56",
    "outputId": "07a88e6f-4aa5-4e1a-8680-4e78b19a7e9f"
   },
   "outputs": [],
   "source": [
    "#plt.subplot(1,2,2)\n",
    "sns.violinplot(x='day', y='tip', data=tips)\n",
    "plt.ylabel('tip ($)')\n",
    "\n",
    "plt.show()"
   ]
  },
  {
   "cell_type": "code",
   "execution_count": null,
   "metadata": {
    "colab": {},
    "colab_type": "code",
    "id": "5vIAo13FnZ58",
    "outputId": "ae001f3b-3948-4bc8-b99c-d4ba9e03ea2d"
   },
   "outputs": [],
   "source": [
    "plt.subplot(1,2,1)\n",
    "sns.boxplot(x='day', y='tip', data=tips)\n",
    "plt.ylabel('tip ($)')\n",
    "plt.subplot(1,2,2)\n",
    "sns.violinplot(x='day', y='tip', data=tips)\n",
    "plt.ylabel('tip ($)')\n",
    "\n",
    "plt.show()"
   ]
  },
  {
   "cell_type": "code",
   "execution_count": null,
   "metadata": {
    "colab": {},
    "colab_type": "code",
    "id": "NIvIm3o2nZ5-",
    "outputId": "1f36b497-bec0-4ffc-f145-f3b4026b0922"
   },
   "outputs": [],
   "source": [
    "##Combining plots\n",
    "\n",
    "sns.violinplot(x='day', y='tip', data=tips, inner=None,color='lightgray')\n",
    "sns.stripplot(x='day', y='tip', data=tips, size=4,jitter=True)\n",
    "plt.ylabel('tip ($)')\n",
    "plt.show()"
   ]
  },
  {
   "cell_type": "markdown",
   "metadata": {
    "colab_type": "text",
    "id": "eotqlD1onZ6C"
   },
   "source": [
    "## Bivariate → “two variables” data visualization"
   ]
  },
  {
   "cell_type": "code",
   "execution_count": null,
   "metadata": {
    "colab": {},
    "colab_type": "code",
    "id": "5vMcvzBxnZ6C",
    "outputId": "87ef214d-c654-4712-f9d7-299ad807ec03"
   },
   "outputs": [],
   "source": [
    "#Joint plot\n",
    "\n",
    "sns.jointplot(x= 'total_bill', y= 'tip', data=tips)\n",
    "plt.show()"
   ]
  },
  {
   "cell_type": "code",
   "execution_count": null,
   "metadata": {
    "colab": {},
    "colab_type": "code",
    "id": "W0-CzUmknZ6D",
    "outputId": "43419077-7e26-4354-a6fa-8a9a387cff3a"
   },
   "outputs": [],
   "source": [
    "# Density plot\n",
    "sns.jointplot(x='total_bill', y= 'tip', data=tips,kind='kde')\n",
    "plt.show()"
   ]
  },
  {
   "cell_type": "code",
   "execution_count": null,
   "metadata": {
    "colab": {},
    "colab_type": "code",
    "id": "GeCxIRyBnZ6J",
    "outputId": "ce0a9d40-eae6-480c-dab0-2656aa4eb912"
   },
   "outputs": [],
   "source": [
    "#Pair plot\n",
    "\n",
    "sns.pairplot(tips)\n",
    "plt.show()"
   ]
  },
  {
   "cell_type": "code",
   "execution_count": null,
   "metadata": {
    "colab": {},
    "colab_type": "code",
    "id": "oqIXUZjGnZ6M",
    "outputId": "2eae10b5-9189-488d-ab88-b3cdba3182dd"
   },
   "outputs": [],
   "source": [
    "sns.pairplot(tips, hue='sex')\n",
    "plt.show()"
   ]
  },
  {
   "cell_type": "markdown",
   "metadata": {
    "colab_type": "text",
    "id": "Vq_D038GnZ6W"
   },
   "source": [
    "# Titanic data visualization"
   ]
  },
  {
   "cell_type": "code",
   "execution_count": null,
   "metadata": {
    "_uuid": "6785d87b77ba61ff565188b5dc3ff1018d21afdd",
    "colab": {},
    "colab_type": "code",
    "id": "FSUht7uinZ6W"
   },
   "outputs": [],
   "source": [
    "import numpy as np\n",
    "import pandas as pd\n",
    "import matplotlib.pyplot as plt\n",
    "import seaborn as sns\n",
    "%matplotlib inline\n",
    "\n",
    "import warnings\n",
    "warnings.filterwarnings(\"ignore\")\n",
    "\n"
   ]
  },
  {
   "cell_type": "markdown",
   "metadata": {
    "_uuid": "f1be92a3a9aa56e98c310aa603a954e87a97b0bc",
    "colab_type": "text",
    "id": "rMTdpD_rnZ6a"
   },
   "source": [
    "### Loading dataset"
   ]
  },
  {
   "cell_type": "code",
   "execution_count": null,
   "metadata": {
    "_uuid": "6f7691827054359855b6801206e884f7dd1a0b34",
    "colab": {},
    "colab_type": "code",
    "id": "k6LP9bQAnZ6a",
    "outputId": "4c698d36-372e-47e2-9301-935b0978cdf5"
   },
   "outputs": [],
   "source": [
    "data = pd.read_csv(\"/Users/srinivasgurrala/Downloads/train.csv\")\n",
    "data.head()"
   ]
  },
  {
   "cell_type": "markdown",
   "metadata": {
    "colab_type": "text",
    "id": "Q4Q77V2CnZ6d"
   },
   "source": [
    "\n",
    "#survival - Survival (0 = No; 1 = Yes)\n",
    "class - Passenger Class (1 = 1st; 2 = 2nd; 3 = 3rd)\n",
    "name - Name\n",
    "sex - Sex\n",
    "age - Age\n",
    "sibsp - Number of Siblings/Spouses Aboard\n",
    "parch - Number of Parents/Children Aboard\n",
    "ticket - Ticket Number\n",
    "fare - Passenger Fare\n",
    "cabin - Cabin\n",
    "embarked - Port of Embarkation (C = Cherbourg; Q = Queenstown; S = Southampton)"
   ]
  },
  {
   "cell_type": "markdown",
   "metadata": {
    "_uuid": "3abc8af913a55dac3549fca3162613ebf7a34954",
    "colab_type": "text",
    "id": "WRqd85_snZ6d"
   },
   "source": [
    "### Data types"
   ]
  },
  {
   "cell_type": "code",
   "execution_count": null,
   "metadata": {
    "_uuid": "9db84b957e1d5ce4d9113eea6fb854021486edb1",
    "colab": {},
    "colab_type": "code",
    "id": "2cnKVMyBnZ6d",
    "outputId": "6421d3ef-3c8a-4541-c03c-6d336f04273d"
   },
   "outputs": [],
   "source": [
    "print(data.dtypes)"
   ]
  },
  {
   "cell_type": "markdown",
   "metadata": {
    "_uuid": "83e5bb463ae71370cc8ea8eb90c9ea41012b9887",
    "colab_type": "text",
    "id": "_WVg9ZewnZ6h"
   },
   "source": [
    "### Proportion of target (Survived)"
   ]
  },
  {
   "cell_type": "code",
   "execution_count": null,
   "metadata": {
    "_uuid": "575291c275e3a14c7a511125d8878b2de0ee5fe0",
    "colab": {},
    "colab_type": "code",
    "id": "vaVuFgnDnZ6h",
    "outputId": "31161f11-bc36-46bb-a8fe-29daffea28e3"
   },
   "outputs": [],
   "source": [
    "data.groupby('Survived')['PassengerId'].count()"
   ]
  },
  {
   "cell_type": "markdown",
   "metadata": {
    "_uuid": "caddeddbf8403ef11f872621ed80c536bcb6c78a",
    "colab_type": "text",
    "id": "NoV7ltEonZ6k"
   },
   "source": [
    "### Visual Exploration"
   ]
  },
  {
   "cell_type": "code",
   "execution_count": null,
   "metadata": {
    "_uuid": "5692bc4d0a3c324588a4ade61e77c22957bb89fe",
    "colab": {},
    "colab_type": "code",
    "id": "knNdLJFDnZ6k",
    "outputId": "4169d0cf-0eed-4047-b902-ca00eb5167f8"
   },
   "outputs": [],
   "source": [
    "f, ax = plt.subplots(figsize=(11,5))\n",
    "sns.boxplot(x='Survived', y=\"Age\",  data=data);"
   ]
  },
  {
   "cell_type": "code",
   "execution_count": null,
   "metadata": {
    "_uuid": "72a1723fcbb75647f62d3af01e15037cfd3b6387",
    "colab": {},
    "colab_type": "code",
    "id": "gS1h-98anZ6o",
    "outputId": "dd17ab34-852f-4107-bf6c-38abe6856bb3"
   },
   "outputs": [],
   "source": [
    "f, ax = plt.subplots(figsize=(10,8))\n",
    "sns.barplot(x='Sex', y=\"Survived\",  data=data);"
   ]
  },
  {
   "cell_type": "code",
   "execution_count": null,
   "metadata": {
    "_uuid": "b60b9de0f951faf43a4ca3efb5f843e687f169ff",
    "colab": {},
    "colab_type": "code",
    "id": "ENLO8hInnZ6s",
    "outputId": "1fb2b2e7-b3f7-48f3-ac9b-2e2e99c94ebb"
   },
   "outputs": [],
   "source": [
    "f, ax = plt.subplots(figsize=(11,5))\n",
    "sns.boxplot(x=\"Sex\", y=\"Age\", hue=\"Survived\", data=data);"
   ]
  },
  {
   "cell_type": "code",
   "execution_count": null,
   "metadata": {
    "_uuid": "b90d13e9e013e5eb6e75c68f7a9b42695cfe1014",
    "colab": {},
    "colab_type": "code",
    "id": "fZBniDtVnZ6v",
    "outputId": "5b1ace82-aa3f-4663-e8a2-a1e44127b27a"
   },
   "outputs": [],
   "source": [
    "sns.barplot(x=\"Pclass\", y=\"Survived\", data=data);"
   ]
  },
  {
   "cell_type": "code",
   "execution_count": null,
   "metadata": {
    "_uuid": "31241c7cec7d98bb2c0f46dba0546f4574e0f409",
    "colab": {},
    "colab_type": "code",
    "id": "Ha8S0yRmnZ6x",
    "outputId": "3bf6ec7d-41ca-44c1-e882-4db8a9e1867d"
   },
   "outputs": [],
   "source": [
    "sns.barplot(x=\"Pclass\", y=\"Survived\",hue=\"Sex\", data=data);"
   ]
  },
  {
   "cell_type": "code",
   "execution_count": null,
   "metadata": {
    "_uuid": "77f976d69f39ccc4c9ae48fc5cb05b37eb360143",
    "colab": {},
    "colab_type": "code",
    "id": "1obKiMi1nZ60",
    "outputId": "16461990-c06b-44e9-e0b1-c2352f1d48b8"
   },
   "outputs": [],
   "source": [
    "sns.barplot(x=\"SibSp\", y=\"Survived\", data=data);"
   ]
  },
  {
   "cell_type": "code",
   "execution_count": null,
   "metadata": {
    "_uuid": "c525f8f35729055e759365c278f00c62ee3bae69",
    "colab": {},
    "colab_type": "code",
    "id": "uHDFzlftnZ64",
    "outputId": "2af4e525-256d-4287-af1f-92b40b865e35"
   },
   "outputs": [],
   "source": [
    "sns.barplot(x=\"Parch\", y=\"Survived\", data=data);"
   ]
  },
  {
   "cell_type": "code",
   "execution_count": null,
   "metadata": {
    "_uuid": "891e6dc073cdc89f292d00acabd57bc3c71c4a34",
    "colab": {},
    "colab_type": "code",
    "id": "t7uaLYVLnZ6-",
    "outputId": "1ea4af04-f3f2-4454-9526-33affc1c5e95"
   },
   "outputs": [],
   "source": [
    "survived = data.loc[data['Survived']==1,\"Age\"].dropna()\n",
    "sns.distplot(survived)\n",
    "plt.title(\"Survived\");"
   ]
  },
  {
   "cell_type": "code",
   "execution_count": null,
   "metadata": {
    "_uuid": "d8e6cb4fd3dd829b60fd1ece0e447557e16a5ef6",
    "colab": {},
    "colab_type": "code",
    "id": "iGuMwxQvnZ7A",
    "outputId": "2d9ce30f-3a67-458b-8520-347ee0bc5bc7"
   },
   "outputs": [],
   "source": [
    "not_survived = data.loc[data['Survived']==0,\"Age\"].dropna()\n",
    "sns.distplot(not_survived)\n",
    "plt.title(\"Not Survived\");"
   ]
  },
  {
   "cell_type": "code",
   "execution_count": null,
   "metadata": {
    "_uuid": "2ce74e90143466e7605639121e0deb18b272bad9",
    "colab": {},
    "colab_type": "code",
    "id": "4EI5WN0wnZ7D",
    "outputId": "b68d0e95-b17f-4fdc-f8d3-41ada8998511"
   },
   "outputs": [],
   "source": [
    "sns.pairplot(data.dropna());"
   ]
  },
  {
   "cell_type": "code",
   "execution_count": null,
   "metadata": {
    "colab": {},
    "colab_type": "code",
    "id": "aDhXA4gsnZ7F",
    "outputId": "fd2fe07d-5162-4418-b316-0f039dcccbe9"
   },
   "outputs": [],
   "source": [
    "# Pclass vs Survive\n",
    "grid = sns.FacetGrid(data, col='Survived', row='Pclass', size=2.4, aspect=1.5)\n",
    "grid.map(plt.hist, 'Age', alpha=.5, bins=20)\n",
    "grid.add_legend()"
   ]
  },
  {
   "cell_type": "code",
   "execution_count": null,
   "metadata": {
    "colab": {},
    "colab_type": "code",
    "id": "gFT6dx2fnZ7O",
    "outputId": "99891b6a-e625-41e8-df9c-e9a3432b1ca3"
   },
   "outputs": [],
   "source": [
    "\n",
    "sns.distplot(a=data[data['Embarked']=='C']['Survived'],bins=3,kde=False)\n",
    "plt.title(\"Cherbourg\")\n",
    "plt.xticks([0,1])\n",
    "plt.show()\n",
    "plt.title(\"QueensTown\")\n",
    "sns.distplot(a=data[data['Embarked']=='Q']['Survived'],bins=3,kde=False)\n",
    "plt.xticks([0,1])\n",
    "\n",
    "plt.show()\n",
    "plt.title(\"Southampton\")\n",
    "sns.distplot(a=data[data['Embarked']=='S']['Survived'],bins=3,kde=False)\n",
    "plt.xticks([0,1])\n",
    "\n",
    "plt.show()\n",
    "#Most of the Passengers embarked from Southampton"
   ]
  },
  {
   "cell_type": "code",
   "execution_count": null,
   "metadata": {
    "colab": {},
    "colab_type": "code",
    "id": "mzPbOcW7nZ7T",
    "outputId": "522f24a4-ec15-41c5-b5a9-19f11b3a832e",
    "scrolled": true
   },
   "outputs": [],
   "source": [
    "figbi, axesbi = plt.subplots(2, 4, figsize=(16, 10))\n",
    "data.groupby('Pclass')['Survived'].mean().plot(kind='barh',ax=axesbi[0,0],xlim=[0,1])\n",
    "data.groupby('SibSp')['Survived'].mean().plot(kind='barh',ax=axesbi[0,1],xlim=[0,1])\n",
    "data.groupby('Parch')['Survived'].mean().plot(kind='barh',ax=axesbi[0,2],xlim=[0,1])\n",
    "data.groupby('Sex')['Survived'].mean().plot(kind='barh',ax=axesbi[0,3],xlim=[0,1])\n",
    "data.groupby('Embarked')['Survived'].mean().plot(kind='barh',ax=axesbi[1,0],xlim=[0,1])\n",
    "sns.boxplot(x=\"Survived\", y=\"Age\", data=data,ax=axesbi[1,1])\n",
    "sns.boxplot(x=\"Survived\", y=\"Fare\", data=data,ax=axesbi[1,2])"
   ]
  },
  {
   "cell_type": "code",
   "execution_count": null,
   "metadata": {
    "colab": {},
    "colab_type": "code",
    "id": "PPTdAiBvnZ7V"
   },
   "outputs": [],
   "source": []
  }
 ],
 "metadata": {
  "colab": {
   "name": "Visualization_mat_seaborn.ipynb",
   "provenance": [],
   "toc_visible": true
  },
  "kernelspec": {
   "display_name": "Python 3",
   "language": "python",
   "name": "python3"
  },
  "language_info": {
   "codemirror_mode": {
    "name": "ipython",
    "version": 3
   },
   "file_extension": ".py",
   "mimetype": "text/x-python",
   "name": "python",
   "nbconvert_exporter": "python",
   "pygments_lexer": "ipython3",
   "version": "3.8.3"
  }
 },
 "nbformat": 4,
 "nbformat_minor": 1
}
